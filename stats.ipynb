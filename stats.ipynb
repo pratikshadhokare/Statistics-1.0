{
  "nbformat": 4,
  "nbformat_minor": 0,
  "metadata": {
    "colab": {
      "provenance": []
    },
    "kernelspec": {
      "name": "python3",
      "display_name": "Python 3"
    },
    "language_info": {
      "name": "python"
    }
  },
  "cells": [
    {
      "cell_type": "markdown",
      "source": [
        "Statistics Assignment 1\n",
        "Theory questions\n"
      ],
      "metadata": {
        "id": "SFY1tIf0CRzK"
      }
    },
    {
      "cell_type": "markdown",
      "source": [
        "1. What is statistics, and why is it important?\n",
        "\n",
        "Statistics is the science of collecting, analyzing, interpreting, presenting, and organizing data.\n",
        "Importance: It helps in making informed decisions based on data, identifying trends, testing hypotheses, and solving real-world problems.\n",
        "\n"
      ],
      "metadata": {
        "id": "sR9Vp44vLw3e"
      }
    },
    {
      "cell_type": "markdown",
      "source": [
        "2. What are the two main types of statistics?\n",
        "\n",
        "Descriptive statistics: Summarize and describe data (e.g., mean, charts).\n",
        "Inferential statistics: Make predictions or inferences about a population based on a sample.\n",
        "\n"
      ],
      "metadata": {
        "id": "tU56wm20Lwz0"
      }
    },
    {
      "cell_type": "markdown",
      "source": [
        "3. What are descriptive statistics?\n",
        "\n",
        "Descriptive statistics summarize and organize features of a data set.\n",
        "Examples: Mean, median, mode, standard deviation, frequency tables, and graphs.\n",
        "\n"
      ],
      "metadata": {
        "id": "LPxPBfBGLwxJ"
      }
    },
    {
      "cell_type": "markdown",
      "source": [
        "4. What is inferential statistics?\n",
        "\n",
        "Inferential statistics use a sample of data to make generalizations or predictions about a larger population.\n",
        "Examples: Hypothesis testing, confidence intervals, regression analysis.\n",
        "\n"
      ],
      "metadata": {
        "id": "jLd3iQ5RLwu0"
      }
    },
    {
      "cell_type": "markdown",
      "source": [
        "5. What is sampling in statistics?\n",
        "\n",
        "Sampling is the process of selecting a subset (sample) from a larger population to represent the whole.\n",
        "Used when studying the entire population is impractical or impossible."
      ],
      "metadata": {
        "id": "Lh-Td7rPLwsO"
      }
    },
    {
      "cell_type": "markdown",
      "source": [
        "6. What are the different types of sampling methods?\n",
        "\n",
        "Random sampling\n",
        "* Systematic sampling\n",
        "* Stratified sampling\n",
        "* Cluster sampling\n",
        "* Convenience sampling\n",
        "* Quota sampling\n",
        "* Snowball sampling\n",
        "\n"
      ],
      "metadata": {
        "id": "FPOCmMTuLwpp"
      }
    },
    {
      "cell_type": "markdown",
      "source": [
        "7. What is the difference between random and non-random sampling?\n",
        "\n",
        "Random sampling: Every member has an equal chance of being selected. Reduces bias.\n",
        "\n",
        "Non-random sampling: Selection is based on convenience or judgment. May introduce bias.\n",
        "\n"
      ],
      "metadata": {
        "id": "YI8dKbK7LwnF"
      }
    },
    {
      "cell_type": "markdown",
      "source": [
        "8. Define and give examples of qualitative and quantitative data.\n",
        "* Qualitative (categorical) data: Non-numerical.\n",
        "* Examples: Gender, color, type of car.\n",
        "* Quantitative (numerical) data: Numeric values.\n",
        "* Examples: Age, height, test scores."
      ],
      "metadata": {
        "id": "FvI6llQeLwiD"
      }
    },
    {
      "cell_type": "markdown",
      "source": [
        "9. What are the different types of data in statistics?\n",
        "* Qualitative (nominal, ordinal)\n",
        "* Quantitative (discrete, continuous)\n",
        "\n"
      ],
      "metadata": {
        "id": "9Jhz9rT1LwfY"
      }
    },
    {
      "cell_type": "markdown",
      "source": [
        "10. Explain nominal, ordinal, interval, and ratio levels of measurement.\n",
        "* Nominal: Categories without order (e.g., blood type, gender)\n",
        "* Ordinal: Categories with order, but no fixed intervals (e.g., rankings)\n",
        "* Interval: Ordered, equal intervals, but no true zero (e.g., temperature in °C)\n",
        "* Ratio: Ordered, equal intervals, and has a true zero (e.g., height, weight)"
      ],
      "metadata": {
        "id": "9hXbE2EJLwS2"
      }
    },
    {
      "cell_type": "markdown",
      "source": [
        "11. What is the measure of central tendency?\n",
        "\n",
        "It is a single value that represents the center or typical value of a data set.\n",
        "Main types: Mean, median, mode.\n",
        "\n"
      ],
      "metadata": {
        "id": "3dd9t9trLwPR"
      }
    },
    {
      "cell_type": "markdown",
      "source": [
        "12. Define mean, median, and mode.\n",
        "* Mean: The average (sum of values ÷ number of values).\n",
        "* Median: The middle value when data is ordered.\n",
        "* Mode: The most frequently occurring value."
      ],
      "metadata": {
        "id": "IOBl8p0kLwMk"
      }
    },
    {
      "cell_type": "markdown",
      "source": [
        "13. What is the significance of the measure of central tendency?\n",
        "\n",
        "It gives a summary value representing the entire data set and helps understand the distribution and typical values.\n",
        "\n"
      ],
      "metadata": {
        "id": "M5CR-KGQLwKA"
      }
    },
    {
      "cell_type": "markdown",
      "source": [
        "14. What is variance, and how is it calculated?\n",
        "\n",
        "Variance measures how much values in a data set differ from the mean.\n",
        "Formula (sample variance):\n",
        "\n",
        "𝑠\n",
        "2\n",
        "=\n",
        "∑\n",
        "(\n",
        "𝑥\n",
        "𝑖\n",
        "−\n",
        "𝑥\n",
        "ˉ\n",
        ")\n",
        "2/\n",
        "𝑛\n",
        "−\n",
        "1\n",
        "\n",
        "Where\n",
        "𝑥\n",
        "𝑖\n",
        "x\n",
        "i\n",
        "​\n",
        "  is each value,\n",
        "𝑥\n",
        "ˉ\n",
        "x\n",
        "ˉ\n",
        "  is the mean, and\n",
        "𝑛\n",
        "n is the sample size."
      ],
      "metadata": {
        "id": "1s7-dcnILwHe"
      }
    },
    {
      "cell_type": "markdown",
      "source": [
        "15. What is standard deviation, and why is it important?\n",
        "\n",
        "Standard deviation is the square root of the variance.\n",
        "It shows how spread out the values are around the mean.\n",
        "Importance: It helps assess the variability or consistency of data.\n",
        "\n"
      ],
      "metadata": {
        "id": "9uxVHyZ7XgjA"
      }
    },
    {
      "cell_type": "markdown",
      "source": [
        "16. Define and explain the term range in statistics.\n",
        "The range is the difference between the highest and lowest values in a dataset.\n",
        "Formula:\n",
        "\n",
        "Range\n",
        "=\n",
        "Maximum value\n",
        "−\n",
        "Minimum value\n",
        "Range=Maximum value−Minimum value\n",
        "Example: For data set [4, 7, 10, 15], range = 15 − 4 = 11\n",
        "\n"
      ],
      "metadata": {
        "id": "KHWPU5qIXh-e"
      }
    },
    {
      "cell_type": "markdown",
      "source": [
        "17. What is the difference between variance and standard deviation?\n",
        "Variance measures the average squared deviations from the mean.\n",
        "\n",
        "Standard deviation is the square root of the variance.\n",
        "🔹 Variance gives spread in squared units; standard deviation gives spread in original units.\n",
        "Thus, standard deviation is easier to interpret.\n",
        "\n"
      ],
      "metadata": {
        "id": "8qkOnug7YKf3"
      }
    },
    {
      "cell_type": "markdown",
      "source": [
        " 18. What is skewness in a dataset?\n",
        "Skewness measures the asymmetry of a data distribution.\n",
        "\n",
        "A perfectly symmetrical dataset has skewness = 0.\n",
        "\n",
        "Skewness indicates whether data leans more to the left or right of the mean."
      ],
      "metadata": {
        "id": "Ku893iiSYKcZ"
      }
    },
    {
      "cell_type": "markdown",
      "source": [
        "19. What does it mean if a dataset is positively or negatively skewed?\n",
        "\n",
        "Positively skewed (right-skewed): Tail is on the right; most data is on the left.\n",
        "➤ Mean > Median\n",
        "\n",
        "Negatively skewed (left-skewed): Tail is on the left; most data is on the right.\n",
        "➤ Mean < Median\n",
        "\n",
        "Example:\n",
        "Income data is usually positively skewed (a few people earn a lot more)."
      ],
      "metadata": {
        "id": "N_KCU4aqYKZk"
      }
    },
    {
      "cell_type": "markdown",
      "source": [
        "20. Define and explain kurtosis.\n",
        "\n",
        "Kurtosis measures the \"tailedness\" or peakedness of a distribution.\n",
        "* High kurtosis: More outliers; heavy tails.\n",
        "* Low kurtosis: Fewer outliers; lighter tails.\n",
        "    * Types:\n",
        "    * Mesokurtic: Normal distribution (kurtosis ≈ 3)\n",
        "    * Leptokurtic: Peaked, heavy tails (kurtosis > 3)\n",
        "    * Platykurtic: Flat, light tails (kurtosis < 3)\n",
        "\n"
      ],
      "metadata": {
        "id": "nfblczB0YKXS"
      }
    },
    {
      "cell_type": "markdown",
      "source": [
        "21. What is the purpose of covariance?\n",
        "\n",
        "Covariance measures how two variables change together:\n",
        "* Positive covariance: Both variables increase together.\n",
        "* Negative covariance: One increases while the other decreases.\n",
        "\n",
        "However, covariance does not show the strength of the relationship.\n",
        "\n"
      ],
      "metadata": {
        "id": "-ZEwOhaiYJ_i"
      }
    },
    {
      "cell_type": "markdown",
      "source": [
        "22. What does correlation measure in statistics?\n",
        "\n",
        "Correlation measures both the strength and direction of a linear relationship between two variables.\n",
        "Ranges from −1 to +1\n",
        "* +1: perfect positive\n",
        "* −1: perfect negative\n",
        "\n",
        "0: no correlation\n",
        "\n",
        "Common measure: Pearson’s correlation coefficient (r)"
      ],
      "metadata": {
        "id": "Kp71NpJcYJ9G"
      }
    },
    {
      "cell_type": "markdown",
      "source": [
        "23. What is the difference between covariance and correlation?\n",
        "\n",
        "| Feature          | Covariance                         | Correlation                   |\n",
        "| ---------------- | ---------------------------------- | ----------------------------- |\n",
        "| Scale            | Not standardized                   | Standardized (−1 to +1)       |\n",
        "| Interpretability | Hard to compare between datasets   | Easy to interpret and compare |\n",
        "| Units            | Product of units of both variables | Unitless                      |\n"
      ],
      "metadata": {
        "id": "okTwvieuYJ6x"
      }
    },
    {
      "cell_type": "markdown",
      "source": [
        "24. What are some real-world applications of statistics?\n",
        "\n",
        "Healthcare: Clinical trials, disease prediction\n",
        "Business: Market research, customer analysis\n",
        "Education: Student performance analysis\n",
        "Government: Census, public policy planning\n",
        "Engineering: Quality control, product testing\n",
        "Sports: Player performance, game strategy\n",
        "Economics: Inflation, GDP analysis, forecasting"
      ],
      "metadata": {
        "id": "swVHgPNlYJ4Z"
      }
    },
    {
      "cell_type": "markdown",
      "source": [
        "Practical Questions"
      ],
      "metadata": {
        "id": "1wNQM89mYJ19"
      }
    },
    {
      "cell_type": "code",
      "source": [
        "#1. How do you calculate the mean, median, and mode of a dataset?\n",
        "#* Mean: Sum of values ÷ Number of values\n",
        "#* Median: Middle value (when data is sorted)\n",
        "#* Mode: Most frequent value(s)\n",
        "import statistics\n",
        "\n",
        "data = [5, 7, 3, 9, 7, 6, 7]\n",
        "\n",
        "mean = statistics.mean(data)\n",
        "median = statistics.median(data)\n",
        "mode = statistics.mode(data)\n",
        "\n",
        "print(\"Mean:\", mean)\n",
        "print(\"Median:\", median)\n",
        "print(\"Mode:\", mode)\n",
        "\n",
        "\n",
        "\n",
        "\n"
      ],
      "metadata": {
        "colab": {
          "base_uri": "https://localhost:8080/"
        },
        "id": "a0fFRY3Ct4lD",
        "outputId": "776d6787-e3c9-4c59-c145-ebe566d14aa1"
      },
      "execution_count": 1,
      "outputs": [
        {
          "output_type": "stream",
          "name": "stdout",
          "text": [
            "Mean: 6.285714285714286\n",
            "Median: 7\n",
            "Mode: 7\n"
          ]
        }
      ]
    },
    {
      "cell_type": "code",
      "source": [
        "#2.Python program to compute variance and standard deviation:\n",
        "import statistics\n",
        "\n",
        "data = [10, 15, 20, 25, 30]\n",
        "\n",
        "variance = statistics.variance(data)\n",
        "std_dev = statistics.stdev(data)\n",
        "\n",
        "print(\"Variance:\", variance)\n",
        "print(\"Standard Deviation:\", std_dev)\n"
      ],
      "metadata": {
        "colab": {
          "base_uri": "https://localhost:8080/"
        },
        "id": "GoJs6jD8t4h3",
        "outputId": "112de669-5eb1-485d-c6a4-32e9eca964e3"
      },
      "execution_count": 3,
      "outputs": [
        {
          "output_type": "stream",
          "name": "stdout",
          "text": [
            "Variance: 62.5\n",
            "Standard Deviation: 7.905694150420948\n"
          ]
        }
      ]
    },
    {
      "cell_type": "code",
      "source": [
        "#3.Create a dataset and classify it:\n",
        "dataset = {\n",
        "    \"Nominal\": [\"Red\", \"Blue\", \"Green\"],           # Categories with no order\n",
        "    \"Ordinal\": [\"Small\", \"Medium\", \"Large\"],       # Categories with order\n",
        "    \"Interval\": [10, 20, 30],                      # Equal intervals, no true zero (e.g., temperature)\n",
        "    \"Ratio\": [5, 10, 15, 20]                       # Equal intervals + true zero (e.g., weight)\n",
        "}\n",
        "\n",
        "print(dataset)\n",
        "\n"
      ],
      "metadata": {
        "colab": {
          "base_uri": "https://localhost:8080/"
        },
        "id": "hWfFn0Bht4fR",
        "outputId": "8807c4c5-2e1a-4763-aac3-6c7b74b61c5b"
      },
      "execution_count": 4,
      "outputs": [
        {
          "output_type": "stream",
          "name": "stdout",
          "text": [
            "{'Nominal': ['Red', 'Blue', 'Green'], 'Ordinal': ['Small', 'Medium', 'Large'], 'Interval': [10, 20, 30], 'Ratio': [5, 10, 15, 20]}\n"
          ]
        }
      ]
    },
    {
      "cell_type": "code",
      "source": [
        "#4.Implement random and stratified sampling:\n",
        "import pandas as pd\n",
        "from sklearn.model_selection import train_test_split\n",
        "\n",
        "# Sample dataset\n",
        "df = pd.DataFrame({\n",
        "    'Gender': ['M', 'F', 'F', 'M', 'F', 'M', 'M', 'F'],\n",
        "    'Score': [88, 92, 85, 79, 95, 80, 90, 87]\n",
        "})\n",
        "\n",
        "# Random sampling\n",
        "random_sample = df.sample(n=4)\n",
        "\n",
        "# Stratified sampling (based on 'Gender')\n",
        "stratified_sample = df.groupby('Gender', group_keys=False).apply(lambda x: x.sample(frac=0.5))\n",
        "\n",
        "print(\"Random Sample:\\n\", random_sample)\n",
        "print(\"Stratified Sample:\\n\", stratified_sample)\n",
        "\n",
        "\n"
      ],
      "metadata": {
        "colab": {
          "base_uri": "https://localhost:8080/"
        },
        "id": "yS2jPHmUt4ch",
        "outputId": "b855ffb1-b4fa-45d2-c024-c0e4688594a8"
      },
      "execution_count": 5,
      "outputs": [
        {
          "output_type": "stream",
          "name": "stdout",
          "text": [
            "Random Sample:\n",
            "   Gender  Score\n",
            "3      M     79\n",
            "4      F     95\n",
            "5      M     80\n",
            "1      F     92\n",
            "Stratified Sample:\n",
            "   Gender  Score\n",
            "1      F     92\n",
            "7      F     87\n",
            "6      M     90\n",
            "0      M     88\n"
          ]
        },
        {
          "output_type": "stream",
          "name": "stderr",
          "text": [
            "/tmp/ipython-input-5-1349333462.py:15: DeprecationWarning: DataFrameGroupBy.apply operated on the grouping columns. This behavior is deprecated, and in a future version of pandas the grouping columns will be excluded from the operation. Either pass `include_groups=False` to exclude the groupings or explicitly select the grouping columns after groupby to silence this warning.\n",
            "  stratified_sample = df.groupby('Gender', group_keys=False).apply(lambda x: x.sample(frac=0.5))\n"
          ]
        }
      ]
    },
    {
      "cell_type": "code",
      "source": [
        "#5. Python function to calculate the range:\n",
        "def calculate_range(data):\n",
        "    return max(data) - min(data)\n",
        "\n",
        "data = [12, 34, 23, 45, 10]\n",
        "print(\"Range:\", calculate_range(data))\n"
      ],
      "metadata": {
        "colab": {
          "base_uri": "https://localhost:8080/"
        },
        "id": "AxkwpbCkt4Z-",
        "outputId": "83e90321-caf9-4a17-aa12-2b5483e54a40"
      },
      "execution_count": 6,
      "outputs": [
        {
          "output_type": "stream",
          "name": "stdout",
          "text": [
            "Range: 35\n"
          ]
        }
      ]
    },
    {
      "cell_type": "code",
      "source": [
        "#6.Create dataset & plot histogram (to visualize skewness):\n",
        "import matplotlib.pyplot as plt\n",
        "import numpy as np\n",
        "\n",
        "data = np.random.exponential(scale=2, size=1000)  # Positively skewed\n",
        "plt.hist(data, bins=30, edgecolor='black')\n",
        "plt.title(\"Histogram to Visualize Skewness\")\n",
        "plt.xlabel(\"Value\")\n",
        "plt.ylabel(\"Frequency\")\n",
        "plt.show()\n",
        "\n"
      ],
      "metadata": {
        "colab": {
          "base_uri": "https://localhost:8080/",
          "height": 472
        },
        "id": "7vIh9cgvt4XY",
        "outputId": "6f70bdb3-ff51-48b6-f20a-c80fe2a895d9"
      },
      "execution_count": 7,
      "outputs": [
        {
          "output_type": "display_data",
          "data": {
            "text/plain": [
              "<Figure size 640x480 with 1 Axes>"
            ],
            "image/png": "[encoded data removed]"
          },
          "metadata": {}
        }
      ]
    },
    {
      "cell_type": "code",
      "source": [
        "#7.Calculate skewness and kurtosis using Python:\n",
        "from scipy.stats import skew, kurtosis\n",
        "\n",
        "data = np.random.normal(loc=0, scale=1, size=1000)\n",
        "print(\"Skewness:\", skew(data))\n",
        "print(\"Kurtosis:\", kurtosis(data))\n"
      ],
      "metadata": {
        "colab": {
          "base_uri": "https://localhost:8080/"
        },
        "id": "00d9zdQdt4VR",
        "outputId": "495a4040-5d36-410c-bf8e-75c77110fa6b"
      },
      "execution_count": 8,
      "outputs": [
        {
          "output_type": "stream",
          "name": "stdout",
          "text": [
            "Skewness: -0.015851798914849932\n",
            "Kurtosis: -0.06957795808072964\n"
          ]
        }
      ]
    },
    {
      "cell_type": "code",
      "source": [
        "#8. Generate datasets with positive and negative skewness:\n",
        "# Positive skew\n",
        "pos_skewed = np.random.exponential(scale=2, size=1000)\n",
        "\n",
        "# Negative skew\n",
        "neg_skewed = -np.random.exponential(scale=2, size=1000)\n",
        "\n",
        "print(\"Positive Skewness:\", skew(pos_skewed))\n",
        "print(\"Negative Skewness:\", skew(neg_skewed))\n"
      ],
      "metadata": {
        "colab": {
          "base_uri": "https://localhost:8080/"
        },
        "id": "-AAAFiaut4TK",
        "outputId": "37ae45d3-22e9-49fe-b0f1-77bd06f0ddff"
      },
      "execution_count": 9,
      "outputs": [
        {
          "output_type": "stream",
          "name": "stdout",
          "text": [
            "Positive Skewness: 1.7133386762287217\n",
            "Negative Skewness: -2.0175334208095035\n"
          ]
        }
      ]
    },
    {
      "cell_type": "code",
      "source": [
        "#9. Python script to calculate covariance:\n",
        "import numpy as np\n",
        "\n",
        "x = np.array([2, 4, 6, 8])\n",
        "y = np.array([1, 3, 2, 5])\n",
        "\n",
        "cov_matrix = np.cov(x, y)\n",
        "covariance = cov_matrix[0][1]\n",
        "print(\"Covariance:\", covariance)\n"
      ],
      "metadata": {
        "colab": {
          "base_uri": "https://localhost:8080/"
        },
        "id": "NjDPRxlCt4Qi",
        "outputId": "6b0ae19f-096e-40cb-dcd7-84d96f059273"
      },
      "execution_count": 10,
      "outputs": [
        {
          "output_type": "stream",
          "name": "stdout",
          "text": [
            "Covariance: 3.6666666666666665\n"
          ]
        }
      ]
    },
    {
      "cell_type": "code",
      "source": [
        "#10. Python script to calculate correlation coefficient:\n",
        "correlation = np.corrcoef(x, y)[0][1]\n",
        "print(\"Correlation Coefficient:\", correlation)\n"
      ],
      "metadata": {
        "colab": {
          "base_uri": "https://localhost:8080/"
        },
        "id": "msKWOORWt4NV",
        "outputId": "1dcc8a7d-e291-4b65-a7ce-096f1ea83305"
      },
      "execution_count": 11,
      "outputs": [
        {
          "output_type": "stream",
          "name": "stdout",
          "text": [
            "Correlation Coefficient: 0.8315218406202999\n"
          ]
        }
      ]
    },
    {
      "cell_type": "code",
      "source": [
        "#11. Create a scatter plot to visualize relationship:\n",
        "import matplotlib.pyplot as plt\n",
        "\n",
        "plt.scatter(x, y)\n",
        "plt.title(\"Scatter Plot to Visualize Relationship\")\n",
        "plt.xlabel(\"X\")\n",
        "plt.ylabel(\"Y\")\n",
        "plt.show()"
      ],
      "metadata": {
        "colab": {
          "base_uri": "https://localhost:8080/",
          "height": 472
        },
        "id": "J2aIhCcv6zLY",
        "outputId": "6960ab5a-745a-4a93-a675-c7a165a4dab1"
      },
      "execution_count": 12,
      "outputs": [
        {
          "output_type": "display_data",
          "data": {
            "text/plain": [
              "<Figure size 640x480 with 1 Axes>"
            ],
            "image/png": "[encoded data removed]"
          },
          "metadata": {}
        }
      ]
    },
    {
      "cell_type": "code",
      "source": [
        "#12. Compare simple random and systematic sampling:\n",
        "import random\n",
        "\n",
        "# Simple random sampling\n",
        "simple_random_sample = random.sample(range(1, 101), 10)\n",
        "\n",
        "# Systematic sampling\n",
        "step = 5\n",
        "systematic_sample = [simple_random_sample[i] for i in range(0, len(simple_random_sample), step)]\n",
        "\n",
        "print(\"Simple Random Sample:\", simple_random_sample)\n",
        "print(\"Systematic Sample:\", systematic_sample)"
      ],
      "metadata": {
        "colab": {
          "base_uri": "https://localhost:8080/"
        },
        "id": "O92sLu7M6zJH",
        "outputId": "5ec1f268-048b-460b-88fa-1b4c85572b69"
      },
      "execution_count": 13,
      "outputs": [
        {
          "output_type": "stream",
          "name": "stdout",
          "text": [
            "Simple Random Sample: [29, 65, 32, 28, 79, 23, 61, 47, 7, 90]\n",
            "Systematic Sample: [29, 23]\n"
          ]
        }
      ]
    },
    {
      "cell_type": "code",
      "source": [
        "#13. Calculate mean, median, and mode of grouped data:\n",
        "import pandas as pd\n",
        "\n",
        "# Example grouped data\n",
        "data = pd.Series([0, 0, 1, 2, 2, 2, 3, 3, 4, 5])\n",
        "frequency = data.value_counts().sort_index()\n",
        "\n",
        "mean = sum(frequency.index * frequency.values) / sum(frequency.values)\n",
        "median = data.median()\n",
        "mode = data.mode()[0]\n",
        "\n",
        "print(\"Grouped Mean:\", mean)\n",
        "print(\"Grouped Median:\", median)\n",
        "print(\"Grouped Mode:\", mode)\n"
      ],
      "metadata": {
        "colab": {
          "base_uri": "https://localhost:8080/"
        },
        "id": "Tr4S-_jq6zGk",
        "outputId": "dd517a60-e4aa-4c87-ccf2-a3634572a87c"
      },
      "execution_count": 14,
      "outputs": [
        {
          "output_type": "stream",
          "name": "stdout",
          "text": [
            "Grouped Mean: 2.2\n",
            "Grouped Median: 2.0\n",
            "Grouped Mode: 2\n"
          ]
        }
      ]
    },
    {
      "cell_type": "code",
      "source": [
        "#14. Simulate data and calculate central tendency & dispersion:\n",
        "data = np.random.normal(50, 10, 1000)  # Mean = 50, SD = 10\n",
        "\n",
        "print(\"Mean:\", np.mean(data))\n",
        "print(\"Median:\", np.median(data))\n",
        "print(\"Mode:\", statistics.mode(data.astype(int)))\n",
        "print(\"Variance:\", np.var(data))\n",
        "print(\"Standard Deviation:\", np.std(data))\n"
      ],
      "metadata": {
        "colab": {
          "base_uri": "https://localhost:8080/"
        },
        "id": "WoFWxfqa6zDh",
        "outputId": "2a5e58db-a1cf-4b94-a877-1075158b682f"
      },
      "execution_count": 15,
      "outputs": [
        {
          "output_type": "stream",
          "name": "stdout",
          "text": [
            "Mean: 49.38798898585983\n",
            "Median: 49.18240205914408\n",
            "Mode: 44\n",
            "Variance: 91.41821758484349\n",
            "Standard Deviation: 9.5612874438981\n"
          ]
        }
      ]
    },
    {
      "cell_type": "code",
      "source": [
        "#15. Use NumPy or pandas to summarize a dataset’s descriptive statistics\n",
        "import pandas as pd\n",
        "import numpy as np\n",
        "\n",
        "# Sample dataset\n",
        "data = pd.DataFrame({\n",
        "    'Score': np.random.normal(75, 10, 100)\n",
        "})\n",
        "\n",
        "# Summary statistics\n",
        "print(data.describe())\n"
      ],
      "metadata": {
        "colab": {
          "base_uri": "https://localhost:8080/"
        },
        "id": "ffGYIVwk6zA3",
        "outputId": "9ffa9bfe-af4e-4969-e384-57bd05f58d16"
      },
      "execution_count": 1,
      "outputs": [
        {
          "output_type": "stream",
          "name": "stdout",
          "text": [
            "            Score\n",
            "count  100.000000\n",
            "mean    74.888683\n",
            "std      9.799174\n",
            "min     52.358494\n",
            "25%     69.392050\n",
            "50%     74.234452\n",
            "75%     80.988743\n",
            "max    103.507560\n"
          ]
        }
      ]
    },
    {
      "cell_type": "code",
      "source": [
        "#16. Plot a boxplot to understand the spread and identify outliers\n",
        "import matplotlib.pyplot as plt\n",
        "import seaborn as sns\n",
        "\n",
        "sns.boxplot(data=data, y='Score')\n",
        "plt.title(\"Boxplot of Scores\")\n",
        "plt.show()\n"
      ],
      "metadata": {
        "colab": {
          "base_uri": "https://localhost:8080/",
          "height": 436
        },
        "id": "KNqBmO156y-H",
        "outputId": "a0717ea3-6a24-476d-f1c7-15c6efcd1d68"
      },
      "execution_count": 2,
      "outputs": [
        {
          "output_type": "display_data",
          "data": {
            "text/plain": [
              "<Figure size 640x480 with 1 Axes>"
            ],
            "image/png": "[encoded data removed]"
          },
          "metadata": {}
        }
      ]
    },
    {
      "cell_type": "code",
      "source": [
        "#17. Calculate the interquartile range (IQR) of a dataset\n",
        "import pandas as pd\n",
        "import numpy as np\n",
        "\n",
        "data = pd.DataFrame({\n",
        "    'Score': np.random.normal(75, 10, 100)\n",
        "})\n",
        "\n",
        "q1 = data['Score'].quantile(0.25)\n",
        "q3 = data['Score'].quantile(0.75)\n",
        "iqr = q3 - q1\n",
        "\n",
        "print(\"Interquartile Range (IQR):\", iqr)\n",
        "\n",
        "\n"
      ],
      "metadata": {
        "colab": {
          "base_uri": "https://localhost:8080/"
        },
        "id": "UNAoW5i1BiHt",
        "outputId": "187949a7-d89a-4fda-a827-04f7165562f3"
      },
      "execution_count": 15,
      "outputs": [
        {
          "output_type": "stream",
          "name": "stdout",
          "text": [
            "Interquartile Range (IQR): 15.011877768056834\n"
          ]
        }
      ]
    },
    {
      "cell_type": "code",
      "source": [
        "#18. Implement Z-score normalization and explain its significance\n",
        "# Z-score normalization\n",
        "data['Z_Score'] = zscore(data['Score'])\n",
        "\n",
        "# Explanation: Z-score normalization transforms data to have mean=0 and std=1.\n",
        "# Useful for comparing variables with different units/scales.\n",
        "print(data.head())\n"
      ],
      "metadata": {
        "colab": {
          "base_uri": "https://localhost:8080/"
        },
        "id": "reXKi3vW6y7H",
        "outputId": "51267d43-abfc-4450-ad86-b9dbc57ccee0"
      },
      "execution_count": 3,
      "outputs": [
        {
          "output_type": "stream",
          "name": "stdout",
          "text": [
            "       Score   Z_Score\n",
            "0  85.267577  1.064496\n",
            "1  71.141155 -0.384360\n",
            "2  80.226944  0.547511\n",
            "3  68.992516 -0.604732\n",
            "4  70.749206 -0.424559\n"
          ]
        }
      ]
    },
    {
      "cell_type": "code",
      "source": [
        "#19.Compare two datasets using their standard deviations\n",
        "data1 = np.random.normal(50, 5, 100)\n",
        "data2 = np.random.normal(50, 15, 100)\n",
        "\n",
        "std1 = np.std(data1)\n",
        "std2 = np.std(data2)\n",
        "\n",
        "print(\"Standard Deviation of Dataset 1:\", std1)\n",
        "print(\"Standard Deviation of Dataset 2:\", std2)\n",
        "\n"
      ],
      "metadata": {
        "colab": {
          "base_uri": "https://localhost:8080/"
        },
        "id": "8gfaXkN-_Shq",
        "outputId": "13963f63-f175-40e3-b03b-5cca23c325ba"
      },
      "execution_count": 10,
      "outputs": [
        {
          "output_type": "stream",
          "name": "stdout",
          "text": [
            "Standard Deviation of Dataset 1: 4.963377289222054\n",
            "Standard Deviation of Dataset 2: 13.335511902855249\n"
          ]
        }
      ]
    },
    {
      "cell_type": "code",
      "source": [
        "#20. Write a Python program to visualize covariance using a heatmap\n",
        "# Sample multivariate dataset\n",
        "df = pd.DataFrame({\n",
        "    'Math': np.random.normal(70, 10, 100),\n",
        "    'Science': np.random.normal(75, 12, 100),\n",
        "    'English': np.random.normal(65, 8, 100)\n",
        "})\n",
        "\n",
        "cov_matrix = df.cov()\n",
        "sns.heatmap(cov_matrix, annot=True, cmap='coolwarm')\n",
        "plt.title(\"Covariance Heatmap\")\n",
        "plt.show()\n"
      ],
      "metadata": {
        "colab": {
          "base_uri": "https://localhost:8080/",
          "height": 452
        },
        "id": "EXize1t0_Sek",
        "outputId": "3541c6ee-63ed-4067-b01f-3aeeec0897fe"
      },
      "execution_count": 9,
      "outputs": [
        {
          "output_type": "display_data",
          "data": {
            "text/plain": [
              "<Figure size 640x480 with 2 Axes>"
            ],
            "image/png": "[encoded data removed]"
          },
          "metadata": {}
        }
      ]
    },
    {
      "cell_type": "code",
      "source": [
        "#21.Use seaborn to create a correlation matrix for a dataset\n",
        "corr_matrix = df.corr()\n",
        "sns.heatmap(corr_matrix, annot=True, cmap='Blues')\n",
        "plt.title(\"Correlation Matrix\")\n",
        "plt.show()\n"
      ],
      "metadata": {
        "colab": {
          "base_uri": "https://localhost:8080/",
          "height": 452
        },
        "id": "DO-9Dkav_Sbn",
        "outputId": "969f88bc-aa11-4127-ea5d-c75be2e3080a"
      },
      "execution_count": 8,
      "outputs": [
        {
          "output_type": "display_data",
          "data": {
            "text/plain": [
              "<Figure size 640x480 with 2 Axes>"
            ],
            "image/png": "[encoded data removed]"
          },
          "metadata": {}
        }
      ]
    },
    {
      "cell_type": "code",
      "source": [
        "#22. Generate a dataset and implement both variance and standard deviation computations\n",
        "data = np.random.normal(100, 15, 200)\n",
        "\n",
        "variance = np.var(data)\n",
        "std_dev = np.std(data)\n",
        "\n",
        "print(\"Variance:\", variance)\n",
        "print(\"Standard Deviation:\", std_dev)\n"
      ],
      "metadata": {
        "colab": {
          "base_uri": "https://localhost:8080/"
        },
        "id": "tVIaeqMc_SH2",
        "outputId": "300b7e97-d89e-47fa-b030-fbaf4519ce51"
      },
      "execution_count": 7,
      "outputs": [
        {
          "output_type": "stream",
          "name": "stdout",
          "text": [
            "Variance: 257.1139499984714\n",
            "Standard Deviation: 16.034773150826656\n"
          ]
        }
      ]
    },
    {
      "cell_type": "code",
      "source": [
        "#23. Visualize skewness and kurtosis using matplotlib or seaborn\n",
        "from scipy.stats import skew, kurtosis\n",
        "\n",
        "data = np.random.exponential(scale=2, size=1000)\n",
        "sns.histplot(data, kde=True)\n",
        "plt.title(\"Histogram with KDE for Skewness/Kurtosis\")\n",
        "plt.show()\n",
        "\n",
        "print(\"Skewness:\", skew(data))\n",
        "print(\"Kurtosis:\", kurtosis(data))\n",
        "\n"
      ],
      "metadata": {
        "id": "PxQwjtGM_SE_"
      },
      "execution_count": null,
      "outputs": []
    },
    {
      "cell_type": "code",
      "source": [
        "#24. Implement the Pearson and Spearman correlation coefficients for a dataset\n",
        "from scipy.stats import pearsonr, spearmanr\n",
        "\n",
        "x = np.random.normal(0, 1, 100)\n",
        "y = 2*x + np.random.normal(0, 0.5, 100)\n",
        "\n",
        "pearson_corr, _ = pearsonr(x, y)\n",
        "spearman_corr, _ = spearmanr(x, y)\n",
        "\n",
        "print(\"Pearson Correlation:\", pearson_corr)\n",
        "print(\"Spearman Correlation:\", spearman_corr)\n"
      ],
      "metadata": {
        "id": "Y9dblVJN_SBw"
      },
      "execution_count": null,
      "outputs": []
    }
  ]
}